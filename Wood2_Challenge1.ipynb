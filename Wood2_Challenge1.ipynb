{
  "nbformat": 4,
  "nbformat_minor": 0,
  "metadata": {
    "colab": {
      "name": "Wood2-Challenge1",
      "provenance": [],
      "collapsed_sections": [],
      "include_colab_link": true
    },
    "kernelspec": {
      "name": "python3",
      "display_name": "Python 3"
    }
  },
  "cells": [
    {
      "cell_type": "markdown",
      "metadata": {
        "id": "view-in-github",
        "colab_type": "text"
      },
      "source": [
        "<a href=\"https://colab.research.google.com/github/haihttran/statistics/blob/master/Wood2_Challenge1.ipynb\" target=\"_parent\"><img src=\"https://colab.research.google.com/assets/colab-badge.svg\" alt=\"Open In Colab\"/></a>"
      ]
    },
    {
      "cell_type": "code",
      "metadata": {
        "id": "xwNQa1atF-BH",
        "outputId": "861334e6-5911-4bc5-85c7-b5998672dc7f",
        "colab": {
          "base_uri": "https://localhost:8080/",
          "height": 34
        }
      },
      "source": [
        "from google.colab import auth\n",
        "auth.authenticate_user()\n",
        "print('Authenticated')"
      ],
      "execution_count": null,
      "outputs": [
        {
          "output_type": "stream",
          "text": [
            "Authenticated\n"
          ],
          "name": "stdout"
        }
      ]
    },
    {
      "cell_type": "code",
      "metadata": {
        "id": "a3on9s-aBrsA",
        "outputId": "34342cb4-672b-412b-ac4b-9b55dfd0cdef",
        "colab": {
          "base_uri": "https://localhost:8080/",
          "height": 51
        }
      },
      "source": [
        "import pandas as pd\n",
        "import matplotlib.pyplot as plt\n",
        "import seaborn as sns\n",
        "import statsmodels.api as sm\n",
        "import numpy as np\n",
        "from scipy import stats\n",
        "from fbprophet import Prophet"
      ],
      "execution_count": null,
      "outputs": [
        {
          "output_type": "stream",
          "text": [
            "/usr/local/lib/python3.6/dist-packages/statsmodels/tools/_testing.py:19: FutureWarning: pandas.util.testing is deprecated. Use the functions in the public API at pandas.testing instead.\n",
            "  import pandas.util.testing as tm\n"
          ],
          "name": "stderr"
        }
      ]
    },
    {
      "cell_type": "markdown",
      "metadata": {
        "id": "Mwk1ZPj6NZai"
      },
      "source": [
        "**QUESTION 1 & 2:**"
      ]
    },
    {
      "cell_type": "code",
      "metadata": {
        "id": "NY26q4CF0fTh"
      },
      "source": [
        "%%bigquery --project haith-2913 df1\n",
        "\n",
        "WITH\n",
        "/*Retrieve all user id of the cohort that first launched game on Feb 10th*/\n",
        "first_launch_cohort AS (\n",
        "  SELECT DISTINCT user_pseudo_id AS new_user_id,\n",
        "    TIMESTAMP_TRUNC(TIMESTAMP_MICROS(event_timestamp), DAY) AS date\n",
        "    FROM `wood-2.analytics_155124895.events_*`\n",
        "    WHERE \n",
        "      event_name = 'first_open'\n",
        "      AND _TABLE_SUFFIX BETWEEN '202002009' AND '20200211'\n",
        "      AND FORMAT_TIMESTAMP('%Y%m%d', TIMESTAMP_TRUNC(TIMESTAMP_MICROS(event_timestamp), DAY)) = '20200210'\n",
        "),\n",
        "/*Retrieve all user id of the cohort that retained the game the period of next 6 days*/\n",
        "retained_user_cohort AS (\n",
        "  SELECT DISTINCT user_pseudo_id AS retained_user_id,\n",
        "  TIMESTAMP_TRUNC(TIMESTAMP_MICROS(event_timestamp), DAY) AS date\n",
        "    FROM `wood-2.analytics_155124895.events_*`\n",
        "    WHERE \n",
        "      event_name = 'user_engagement'\n",
        "      AND _TABLE_SUFFIX BETWEEN '20200210' AND '20200216'\n",
        "      AND FORMAT_TIMESTAMP('%Y%m%d', TIMESTAMP_TRUNC(TIMESTAMP_MICROS(event_timestamp), DAY))\n",
        "      BETWEEN '20200211' AND '20200216'\n",
        ")\n",
        "/*Look for the users that first open game on Feb 2nd and retained it in next days*/\n",
        "SELECT \n",
        "  TIMESTAMP_DIFF(R.date, F.date, DAY) AS day_n,\n",
        "  COUNT(*) AS number\n",
        "  FROM first_launch_cohort AS F\n",
        "    INNER JOIN retained_user_cohort AS R\n",
        "    ON F.new_user_id = R.retained_user_id\n",
        "    AND F.date < R.date\n",
        "  GROUP BY 1\n",
        "  ORDER BY 1\n"
      ],
      "execution_count": null,
      "outputs": []
    },
    {
      "cell_type": "code",
      "metadata": {
        "id": "W5yxlnPzZ0HU",
        "outputId": "c57c229d-da80-4d83-e57c-6c22414e3622",
        "colab": {
          "base_uri": "https://localhost:8080/",
          "height": 235
        }
      },
      "source": [
        "df1"
      ],
      "execution_count": null,
      "outputs": [
        {
          "output_type": "execute_result",
          "data": {
            "text/html": [
              "<div>\n",
              "<style scoped>\n",
              "    .dataframe tbody tr th:only-of-type {\n",
              "        vertical-align: middle;\n",
              "    }\n",
              "\n",
              "    .dataframe tbody tr th {\n",
              "        vertical-align: top;\n",
              "    }\n",
              "\n",
              "    .dataframe thead th {\n",
              "        text-align: right;\n",
              "    }\n",
              "</style>\n",
              "<table border=\"1\" class=\"dataframe\">\n",
              "  <thead>\n",
              "    <tr style=\"text-align: right;\">\n",
              "      <th></th>\n",
              "      <th>day_n</th>\n",
              "      <th>number</th>\n",
              "    </tr>\n",
              "  </thead>\n",
              "  <tbody>\n",
              "    <tr>\n",
              "      <th>0</th>\n",
              "      <td>1</td>\n",
              "      <td>70</td>\n",
              "    </tr>\n",
              "    <tr>\n",
              "      <th>1</th>\n",
              "      <td>2</td>\n",
              "      <td>66</td>\n",
              "    </tr>\n",
              "    <tr>\n",
              "      <th>2</th>\n",
              "      <td>3</td>\n",
              "      <td>55</td>\n",
              "    </tr>\n",
              "    <tr>\n",
              "      <th>3</th>\n",
              "      <td>4</td>\n",
              "      <td>47</td>\n",
              "    </tr>\n",
              "    <tr>\n",
              "      <th>4</th>\n",
              "      <td>5</td>\n",
              "      <td>42</td>\n",
              "    </tr>\n",
              "    <tr>\n",
              "      <th>5</th>\n",
              "      <td>6</td>\n",
              "      <td>37</td>\n",
              "    </tr>\n",
              "  </tbody>\n",
              "</table>\n",
              "</div>"
            ],
            "text/plain": [
              "   day_n  number\n",
              "0      1      70\n",
              "1      2      66\n",
              "2      3      55\n",
              "3      4      47\n",
              "4      5      42\n",
              "5      6      37"
            ]
          },
          "metadata": {
            "tags": []
          },
          "execution_count": 51
        }
      ]
    },
    {
      "cell_type": "markdown",
      "metadata": {
        "id": "CfPV2HVJ9b3X"
      },
      "source": [
        "*   Day 5 Retention of users who launched Wood2 for the first time on February 1 is 42.\n",
        "*   \bThere are 55 users who first launched Wood2 on February 10 returned on Day 3\n",
        "\n",
        "\n",
        "\n",
        "\n"
      ]
    },
    {
      "cell_type": "code",
      "metadata": {
        "id": "c2B5KtMuF9H8",
        "outputId": "db97123a-8051-4c88-c065-e952a3d74b56",
        "colab": {
          "base_uri": "https://localhost:8080/",
          "height": 301
        }
      },
      "source": [
        "sns.set_theme(style=\"darkgrid\")\n",
        "ax = sns.barplot(x=\"day_n\", y=\"number\", data=df1)\n",
        "for index, row in df1.iterrows():\n",
        "    ax.text(row.name,row.number, round(row.number,2), color='black', ha=\"center\")\n",
        "plt.title('Wood-2 6-day user retention of who first joined game on Feb 10th ')\n",
        "plt.show()"
      ],
      "execution_count": null,
      "outputs": [
        {
          "output_type": "display_data",
          "data": {
            "image/png": "[encoded data removed]",
            "text/plain": [
              "<Figure size 432x288 with 1 Axes>"
            ]
          },
          "metadata": {
            "tags": []
          }
        }
      ]
    },
    {
      "cell_type": "markdown",
      "metadata": {
        "id": "risUToRWNWTL"
      },
      "source": [
        "**QUESTION 3:**"
      ]
    },
    {
      "cell_type": "code",
      "metadata": {
        "id": "Jxb5LVOdLA6V"
      },
      "source": [
        "%%bigquery --project haith-2913 df2\n",
        "/*Count number of users who joined Wood-2 in March*/\n",
        "SELECT COUNT (DISTINCT user_pseudo_id) as first_joined_in_March\n",
        "    FROM `wood-2.analytics_155124895.events_*`\n",
        "    WHERE \n",
        "      event_name = 'first_open'\n",
        "      AND _TABLE_SUFFIX BETWEEN '20200229' AND '20200401'\n",
        "      AND FORMAT_TIMESTAMP('%Y%m%d', TIMESTAMP_TRUNC(TIMESTAMP_MICROS(event_timestamp), DAY)) \n",
        "      BETWEEN '20200301' AND '20200331'"
      ],
      "execution_count": null,
      "outputs": []
    },
    {
      "cell_type": "code",
      "metadata": {
        "id": "GOO3SoHF-SvS",
        "outputId": "ba7892c4-2bf5-4b52-dac5-07461c33f50d",
        "colab": {
          "base_uri": "https://localhost:8080/",
          "height": 80
        }
      },
      "source": [
        "df2"
      ],
      "execution_count": null,
      "outputs": [
        {
          "output_type": "execute_result",
          "data": {
            "text/html": [
              "<div>\n",
              "<style scoped>\n",
              "    .dataframe tbody tr th:only-of-type {\n",
              "        vertical-align: middle;\n",
              "    }\n",
              "\n",
              "    .dataframe tbody tr th {\n",
              "        vertical-align: top;\n",
              "    }\n",
              "\n",
              "    .dataframe thead th {\n",
              "        text-align: right;\n",
              "    }\n",
              "</style>\n",
              "<table border=\"1\" class=\"dataframe\">\n",
              "  <thead>\n",
              "    <tr style=\"text-align: right;\">\n",
              "      <th></th>\n",
              "      <th>first_joined_in_March</th>\n",
              "    </tr>\n",
              "  </thead>\n",
              "  <tbody>\n",
              "    <tr>\n",
              "      <th>0</th>\n",
              "      <td>7108</td>\n",
              "    </tr>\n",
              "  </tbody>\n",
              "</table>\n",
              "</div>"
            ],
            "text/plain": [
              "   first_joined_in_March\n",
              "0                   7108"
            ]
          },
          "metadata": {
            "tags": []
          },
          "execution_count": 60
        }
      ]
    },
    {
      "cell_type": "code",
      "metadata": {
        "id": "RD28SVoA-utX",
        "outputId": "f5838852-baf4-4a97-a1af-e1e7a2134f57",
        "colab": {
          "base_uri": "https://localhost:8080/",
          "height": 272
        }
      },
      "source": [
        "sns.set_theme(style=\"darkgrid\")\n",
        "ax = sns.barplot(x=[\"March\"], y=\"first_joined_in_March\", data=df2)\n",
        "ax.set(ylim=(0, 10000))\n",
        "plt.show()"
      ],
      "execution_count": null,
      "outputs": [
        {
          "output_type": "display_data",
          "data": {
            "image/png": "[encoded data removed]",
            "text/plain": [
              "<Figure size 432x288 with 1 Axes>"
            ]
          },
          "metadata": {
            "tags": []
          }
        }
      ]
    },
    {
      "cell_type": "markdown",
      "metadata": {
        "id": "zx_jhnCuNSEO"
      },
      "source": [
        "**QUESTION 4:**"
      ]
    },
    {
      "cell_type": "code",
      "metadata": {
        "id": "yB2aS68GLANT"
      },
      "source": [
        "%%bigquery --project haith-2913 df3\n",
        "WITH\n",
        "/*Retrieve all user id of the cohort that first launched game  Feb*/\n",
        "first_launch_cohort AS (\n",
        "  SELECT DISTINCT user_pseudo_id AS new_user_id,\n",
        "    TIMESTAMP_TRUNC(TIMESTAMP_MICROS(event_timestamp), DAY) AS date\n",
        "    FROM `wood-2.analytics_155124895.events_*`\n",
        "    WHERE \n",
        "      event_name = 'first_open'\n",
        "      AND _TABLE_SUFFIX BETWEEN '20200131' AND '20200301'\n",
        "      AND FORMAT_TIMESTAMP('%Y%m%d', TIMESTAMP_TRUNC(TIMESTAMP_MICROS(event_timestamp), DAY))\n",
        "      BETWEEN '20200201' AND '20200229'\n",
        "),\n",
        "/*Retrieve all user id of the cohort that retained the game  March*/\n",
        "retained_user_cohort AS (\n",
        "  SELECT DISTINCT user_pseudo_id AS retained_user_id,\n",
        "  TIMESTAMP_TRUNC(TIMESTAMP_MICROS(event_timestamp), DAY) AS date\n",
        "    FROM `wood-2.analytics_155124895.events_*`\n",
        "    WHERE \n",
        "      event_name = 'user_engagement'\n",
        "      AND _TABLE_SUFFIX BETWEEN '20200229' AND '20200401'\n",
        "      AND FORMAT_TIMESTAMP('%Y%m%d', TIMESTAMP_TRUNC(TIMESTAMP_MICROS(event_timestamp), DAY))\n",
        "      BETWEEN '20200301' AND '20200331'\n",
        ")\n",
        "/*Look for the users that first open game in Feb and retained it in March*/\n",
        "SELECT \n",
        "  COUNT(*) AS number\n",
        "  FROM first_launch_cohort AS F\n",
        "    INNER JOIN retained_user_cohort AS R\n",
        "    ON F.new_user_id = R.retained_user_id\n",
        "    AND F.date < R.date"
      ],
      "execution_count": null,
      "outputs": []
    },
    {
      "cell_type": "code",
      "metadata": {
        "id": "XiEdRjPjAT4F",
        "outputId": "0db8bada-2fbd-421b-ca42-ebc14a525a1d",
        "colab": {
          "base_uri": "https://localhost:8080/",
          "height": 80
        }
      },
      "source": [
        "df3"
      ],
      "execution_count": null,
      "outputs": [
        {
          "output_type": "execute_result",
          "data": {
            "text/html": [
              "<div>\n",
              "<style scoped>\n",
              "    .dataframe tbody tr th:only-of-type {\n",
              "        vertical-align: middle;\n",
              "    }\n",
              "\n",
              "    .dataframe tbody tr th {\n",
              "        vertical-align: top;\n",
              "    }\n",
              "\n",
              "    .dataframe thead th {\n",
              "        text-align: right;\n",
              "    }\n",
              "</style>\n",
              "<table border=\"1\" class=\"dataframe\">\n",
              "  <thead>\n",
              "    <tr style=\"text-align: right;\">\n",
              "      <th></th>\n",
              "      <th>number</th>\n",
              "    </tr>\n",
              "  </thead>\n",
              "  <tbody>\n",
              "    <tr>\n",
              "      <th>0</th>\n",
              "      <td>27848</td>\n",
              "    </tr>\n",
              "  </tbody>\n",
              "</table>\n",
              "</div>"
            ],
            "text/plain": [
              "   number\n",
              "0   27848"
            ]
          },
          "metadata": {
            "tags": []
          },
          "execution_count": 77
        }
      ]
    },
    {
      "cell_type": "code",
      "metadata": {
        "id": "FYf9vuf5AeIe",
        "outputId": "ef860f7c-763f-4fe3-a94b-4a92eec976f0",
        "colab": {
          "base_uri": "https://localhost:8080/",
          "height": 258
        }
      },
      "source": [
        "sns.set_theme(style=\"darkgrid\")\n",
        "ax = sns.barplot(y=\"number\", data=df3)\n",
        "ax.set(ylim=(0, 50000))\n",
        "plt.show()"
      ],
      "execution_count": null,
      "outputs": [
        {
          "output_type": "display_data",
          "data": {
            "image/png": "[encoded data removed]",
            "text/plain": [
              "<Figure size 432x288 with 1 Axes>"
            ]
          },
          "metadata": {
            "tags": []
          }
        }
      ]
    },
    {
      "cell_type": "markdown",
      "metadata": {
        "id": "K68ZT-EOO-gX"
      },
      "source": [
        "**QUESTION 5:**"
      ]
    },
    {
      "cell_type": "markdown",
      "metadata": {
        "id": "FBMPMq3HC-BF"
      },
      "source": [
        "The number of Monthly Active Users (MAU) is a variable that varies from month to month. Therefore, with the same measurement, we can treat the series of MAU as a time series. To predict the value of MAU of the incoming October, we will apply a traditional, simple but yet quite powerful technique: univariate forecasting of time series."
      ]
    },
    {
      "cell_type": "markdown",
      "metadata": {
        "id": "GXfOMhd3DqNH"
      },
      "source": [
        "Firstly, we need to obtain the raw dataset from Wood-2 Firebase BigQuery:"
      ]
    },
    {
      "cell_type": "code",
      "metadata": {
        "id": "m8kXwwkKCUFV"
      },
      "source": [
        "%%bigquery --project haith-2913 df4\n",
        "/*Get numbers of active users, grouped by month*/\n",
        "SELECT\n",
        "  FORMAT_TIMESTAMP('%Y%m%d', TIMESTAMP_TRUNC(TIMESTAMP_MICROS(event_timestamp), MONTH)) AS month,\n",
        "  COUNT (DISTINCT user_pseudo_id) AS active_user_count\n",
        "  FROM\n",
        "    `wood-2.analytics_155124895.events_*`,\n",
        "    UNNEST(event_params) AS params\n",
        "    WHERE\n",
        "    _TABLE_SUFFIX BETWEEN '20180101' AND '20200930'\n",
        "    AND event_name IN ('user_engagement','first_open')\n",
        "    AND params.key = 'engagement_time_msec'\n",
        "  GROUP BY month\n",
        "  ORDER BY month"
      ],
      "execution_count": null,
      "outputs": []
    },
    {
      "cell_type": "markdown",
      "metadata": {
        "id": "TrSeGfyGD0L_"
      },
      "source": [
        "An overview to first few rows of the result:"
      ]
    },
    {
      "cell_type": "code",
      "metadata": {
        "id": "YeRhfmbzT6I6",
        "outputId": "b21fad51-7a28-4b91-d9e9-9ba9496df29b",
        "colab": {
          "base_uri": "https://localhost:8080/",
          "height": 204
        }
      },
      "source": [
        "df4.head()\n"
      ],
      "execution_count": null,
      "outputs": [
        {
          "output_type": "execute_result",
          "data": {
            "text/html": [
              "<div>\n",
              "<style scoped>\n",
              "    .dataframe tbody tr th:only-of-type {\n",
              "        vertical-align: middle;\n",
              "    }\n",
              "\n",
              "    .dataframe tbody tr th {\n",
              "        vertical-align: top;\n",
              "    }\n",
              "\n",
              "    .dataframe thead th {\n",
              "        text-align: right;\n",
              "    }\n",
              "</style>\n",
              "<table border=\"1\" class=\"dataframe\">\n",
              "  <thead>\n",
              "    <tr style=\"text-align: right;\">\n",
              "      <th></th>\n",
              "      <th>month</th>\n",
              "      <th>active_user_count</th>\n",
              "    </tr>\n",
              "  </thead>\n",
              "  <tbody>\n",
              "    <tr>\n",
              "      <th>0</th>\n",
              "      <td>20180601</td>\n",
              "      <td>96219</td>\n",
              "    </tr>\n",
              "    <tr>\n",
              "      <th>1</th>\n",
              "      <td>20180701</td>\n",
              "      <td>178313</td>\n",
              "    </tr>\n",
              "    <tr>\n",
              "      <th>2</th>\n",
              "      <td>20180801</td>\n",
              "      <td>175363</td>\n",
              "    </tr>\n",
              "    <tr>\n",
              "      <th>3</th>\n",
              "      <td>20180901</td>\n",
              "      <td>161622</td>\n",
              "    </tr>\n",
              "    <tr>\n",
              "      <th>4</th>\n",
              "      <td>20181001</td>\n",
              "      <td>157430</td>\n",
              "    </tr>\n",
              "  </tbody>\n",
              "</table>\n",
              "</div>"
            ],
            "text/plain": [
              "      month  active_user_count\n",
              "0  20180601              96219\n",
              "1  20180701             178313\n",
              "2  20180801             175363\n",
              "3  20180901             161622\n",
              "4  20181001             157430"
            ]
          },
          "metadata": {
            "tags": []
          },
          "execution_count": 33
        }
      ]
    },
    {
      "cell_type": "markdown",
      "metadata": {
        "id": "3KZKnRt5C08Z"
      },
      "source": [
        "Secondly, we might need to take a look at the visualization of the time series since it would provide some initial insight of the data:"
      ]
    },
    {
      "cell_type": "code",
      "metadata": {
        "id": "CKhbUG20WIa6"
      },
      "source": [
        "#Lambda function for calculating rolling value\n",
        "rll = lambda df : df.active_user_count.rolling(window=5, min_periods=1)"
      ],
      "execution_count": null,
      "outputs": []
    },
    {
      "cell_type": "code",
      "metadata": {
        "id": "2rxMbA0UUNmu",
        "outputId": "a5cf8f35-9641-4ccc-a255-8050512b0c87",
        "colab": {
          "base_uri": "https://localhost:8080/",
          "height": 768
        }
      },
      "source": [
        "#Plotting the time series, rolling mean and moving std\n",
        "sns.set_theme(style=\"darkgrid\")\n",
        "plt.figure(figsize=(20, 10))\n",
        "sns.lineplot(y=\"active_user_count\", x=\"month\", data=df4)\n",
        "sns.lineplot(y=rll(df4).mean(), x=\"month\", color=\"red\", data=df4)\n",
        "sns.lineplot(y=rll(df4.iloc[1:]).std(), x=\"month\", color=\"green\", data=df4)\n",
        "plt.xticks(rotation=90)\n",
        "plt.title('monthly active user 01/2018-09/2020')\n",
        "plt.show()"
      ],
      "execution_count": null,
      "outputs": [
        {
          "output_type": "stream",
          "text": [
            "INFO:matplotlib.category:Using categorical units to plot a list of strings that are all parsable as floats or dates. If these strings should be plotted as numbers, cast to the appropriate data type before plotting.\n",
            "INFO:matplotlib.category:Using categorical units to plot a list of strings that are all parsable as floats or dates. If these strings should be plotted as numbers, cast to the appropriate data type before plotting.\n",
            "INFO:matplotlib.category:Using categorical units to plot a list of strings that are all parsable as floats or dates. If these strings should be plotted as numbers, cast to the appropriate data type before plotting.\n",
            "INFO:matplotlib.category:Using categorical units to plot a list of strings that are all parsable as floats or dates. If these strings should be plotted as numbers, cast to the appropriate data type before plotting.\n",
            "INFO:matplotlib.category:Using categorical units to plot a list of strings that are all parsable as floats or dates. If these strings should be plotted as numbers, cast to the appropriate data type before plotting.\n",
            "INFO:matplotlib.category:Using categorical units to plot a list of strings that are all parsable as floats or dates. If these strings should be plotted as numbers, cast to the appropriate data type before plotting.\n"
          ],
          "name": "stderr"
        },
        {
          "output_type": "display_data",
          "data": {
            "image/png": "[encoded data removed]",
            "text/plain": [
              "<Figure size 1440x720 with 1 Axes>"
            ]
          },
          "metadata": {
            "tags": []
          }
        }
      ]
    },
    {
      "cell_type": "markdown",
      "metadata": {
        "id": "4iYPNy3PBeXG"
      },
      "source": [
        "Prepare the dataset for training and testing the forecasting model.\n",
        " is accomplished by duplicating the original data set and rename the columns to \"ds\" and \"y\" since Facebook Prophet library requires the naming convention in which \"ds\" is the timestamp field and \"y\" is the value of observation."
      ]
    },
    {
      "cell_type": "code",
      "metadata": {
        "id": "PkV0ZknfV4-e",
        "outputId": "eadfb0b3-e162-4462-b6c5-5c395636e4d1",
        "colab": {
          "base_uri": "https://localhost:8080/",
          "height": 204
        }
      },
      "source": [
        "temp = df4.copy()\n",
        "temp.rename(columns= {'month':'ds','active_user_count':'y'}, inplace = True)\n",
        "temp['ds']= pd.to_datetime(temp['ds'])\n",
        "temp.head()"
      ],
      "execution_count": null,
      "outputs": [
        {
          "output_type": "execute_result",
          "data": {
            "text/html": [
              "<div>\n",
              "<style scoped>\n",
              "    .dataframe tbody tr th:only-of-type {\n",
              "        vertical-align: middle;\n",
              "    }\n",
              "\n",
              "    .dataframe tbody tr th {\n",
              "        vertical-align: top;\n",
              "    }\n",
              "\n",
              "    .dataframe thead th {\n",
              "        text-align: right;\n",
              "    }\n",
              "</style>\n",
              "<table border=\"1\" class=\"dataframe\">\n",
              "  <thead>\n",
              "    <tr style=\"text-align: right;\">\n",
              "      <th></th>\n",
              "      <th>ds</th>\n",
              "      <th>y</th>\n",
              "    </tr>\n",
              "  </thead>\n",
              "  <tbody>\n",
              "    <tr>\n",
              "      <th>0</th>\n",
              "      <td>2018-06-01</td>\n",
              "      <td>96219</td>\n",
              "    </tr>\n",
              "    <tr>\n",
              "      <th>1</th>\n",
              "      <td>2018-07-01</td>\n",
              "      <td>178313</td>\n",
              "    </tr>\n",
              "    <tr>\n",
              "      <th>2</th>\n",
              "      <td>2018-08-01</td>\n",
              "      <td>175363</td>\n",
              "    </tr>\n",
              "    <tr>\n",
              "      <th>3</th>\n",
              "      <td>2018-09-01</td>\n",
              "      <td>161622</td>\n",
              "    </tr>\n",
              "    <tr>\n",
              "      <th>4</th>\n",
              "      <td>2018-10-01</td>\n",
              "      <td>157430</td>\n",
              "    </tr>\n",
              "  </tbody>\n",
              "</table>\n",
              "</div>"
            ],
            "text/plain": [
              "          ds       y\n",
              "0 2018-06-01   96219\n",
              "1 2018-07-01  178313\n",
              "2 2018-08-01  175363\n",
              "3 2018-09-01  161622\n",
              "4 2018-10-01  157430"
            ]
          },
          "metadata": {
            "tags": []
          },
          "execution_count": 38
        }
      ]
    },
    {
      "cell_type": "markdown",
      "metadata": {
        "id": "2OYaCtSvEE1J"
      },
      "source": [
        "Finally, we create the model with Prophet, fit the prepared data and then forecast the values of MAU in next 3 months (October, November, December) with lower and upper bounds:"
      ]
    },
    {
      "cell_type": "code",
      "metadata": {
        "id": "nCkVY3Hsga3l",
        "outputId": "a4544ed8-eccd-4b3a-909e-4ee22916ad71",
        "colab": {
          "base_uri": "https://localhost:8080/",
          "height": 85
        }
      },
      "source": [
        "# define the model\n",
        "model = Prophet()\n",
        "# fit the model\n",
        "model.fit(temp)"
      ],
      "execution_count": null,
      "outputs": [
        {
          "output_type": "stream",
          "text": [
            "INFO:fbprophet:Disabling weekly seasonality. Run prophet with weekly_seasonality=True to override this.\n",
            "INFO:fbprophet:Disabling daily seasonality. Run prophet with daily_seasonality=True to override this.\n",
            "INFO:fbprophet:n_changepoints greater than number of observations. Using 21.\n"
          ],
          "name": "stderr"
        },
        {
          "output_type": "execute_result",
          "data": {
            "text/plain": [
              "<fbprophet.forecaster.Prophet at 0x7f8f10991fd0>"
            ]
          },
          "metadata": {
            "tags": []
          },
          "execution_count": 41
        }
      ]
    },
    {
      "cell_type": "code",
      "metadata": {
        "id": "0DwC8CbTiXsM",
        "outputId": "670c3fda-02c1-4a02-eb10-2016f65ecac3",
        "colab": {
          "base_uri": "https://localhost:8080/",
          "height": 85
        }
      },
      "source": [
        "# define the period for which we want a prediction\n",
        "future = list()\n",
        "for i in range(10, 13):\n",
        "\tdate = '2020-%02d' % i\n",
        "\tfuture.append([date])\n",
        "future = pd.DataFrame(future)\n",
        "future.columns = ['ds']\n",
        "future['ds']= pd.to_datetime(future['ds'])\n",
        "forecast = model.predict(future)\n",
        "\n",
        "# summarize the forecast\n",
        "print(forecast[['ds', 'yhat', 'yhat_lower', 'yhat_upper']].head())"
      ],
      "execution_count": null,
      "outputs": [
        {
          "output_type": "stream",
          "text": [
            "          ds          yhat    yhat_lower    yhat_upper\n",
            "0 2020-10-01  48777.941313  33011.603422  64308.737486\n",
            "1 2020-11-01  39286.903494  24511.793506  53672.027247\n",
            "2 2020-12-01  56965.666183  42818.328563  71865.313036\n"
          ],
          "name": "stdout"
        }
      ]
    },
    {
      "cell_type": "markdown",
      "metadata": {
        "id": "2lbuz-BSBzu2"
      },
      "source": [
        "Visualize the forecasted values of the next 3 months."
      ]
    },
    {
      "cell_type": "code",
      "metadata": {
        "id": "ttYQlFWupZqO",
        "outputId": "58f06841-16da-48f8-ba56-3a3fd272ccdf",
        "colab": {
          "base_uri": "https://localhost:8080/",
          "height": 437
        }
      },
      "source": [
        "model.plot(forecast);"
      ],
      "execution_count": null,
      "outputs": [
        {
          "output_type": "display_data",
          "data": {
            "image/png": "[encoded data removed]",
            "text/plain": [
              "<Figure size 720x432 with 1 Axes>"
            ]
          },
          "metadata": {
            "tags": []
          }
        }
      ]
    }
  ]
}